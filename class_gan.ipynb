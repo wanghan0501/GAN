{
 "cells": [
  {
   "cell_type": "code",
   "execution_count": null,
   "metadata": {
    "collapsed": true
   },
   "outputs": [],
   "source": [
    "import tensorflow as tf\n",
    "import numpy as np\n",
    "import matplotlib.pyplot as plt\n",
    "import matplotlib.gridspec as gridspec\n",
    "import os"
   ]
  },
  {
   "cell_type": "code",
   "execution_count": null,
   "metadata": {
    "collapsed": true
   },
   "outputs": [],
   "source": [
    "class GAN():\n",
    "    def __init__(self, generator_model = None , discriminator_model = None,\n",
    "                 training_rate =1e-4):\n",
    "        self.generator_model = generator_model\n",
    "        self.discriminator_model = discriminator_model\n",
    "        self.training_rate = training_rate\n",
    "        \n",
    "        self._create_placeholder()\n",
    "        self._create_train_graph()\n",
    "    \n",
    "    def sample_Z(self,m, n):\n",
    "        return np.random.uniform(-1., 1., size=[m, n])\n",
    "    \n",
    "    def _create_placeholder(self):\n",
    "        self.X = tf.placeholder(tf.float32, shape=[None, 784])\n",
    "        self.Z = tf.placeholder(tf.float32, shape=[None, 100])\n",
    "    \n",
    "    def _create_train_graph(self):\n",
    "        G_sample = self.generator_model.generator(self.Z)\n",
    "        D_logit_real = self.discriminator_model.discriminator(self.X)\n",
    "        D_logit_fake = self.discriminator_model.discriminator(G_sample)\n",
    "        \n",
    "        D_loss_real = tf.reduce_mean(tf.nn.sigmoid_cross_entropy_with_logits(logits=D_logit_real, labels=tf.ones_like(D_logit_real)))\n",
    "        D_loss_fake = tf.reduce_mean(tf.nn.sigmoid_cross_entropy_with_logits(logits=D_logit_fake, labels=tf.zeros_like(D_logit_fake)))\n",
    "        D_loss = D_loss_real + D_loss_fake\n",
    "        G_loss = tf.reduce_mean(tf.nn.sigmoid_cross_entropy_with_logits(logits=D_logit_fake, labels=tf.ones_like(D_logit_fake)))\n",
    "\n",
    "        D_solver = tf.train.AdamOptimizer().minimize(D_loss, var_list=self.discriminator_model.theta_list)\n",
    "        G_solver = tf.train.AdamOptimizer().minimize(G_loss, var_list=self.generator_model.theta_list)\n",
    "     \n",
    "        self.G_sample = G_sample\n",
    "        self.D_solver=D_solver\n",
    "        self.G_solver=G_solver\n",
    "        self.D_loss = D_loss\n",
    "        self.G_loss = G_loss"
   ]
  },
  {
   "cell_type": "code",
   "execution_count": null,
   "metadata": {
    "collapsed": true
   },
   "outputs": [],
   "source": [
    "mnist = tf.contrib.learn.datasets.mnist.read_data_sets(train_dir='mnist/data', one_hot=True)\n",
    "mb_size = 128\n",
    "Z_dim = 100\n",
    "\n",
    "gan = GAN()\n",
    "\n",
    "\n",
    "def plot(samples):\n",
    "    fig = plt.figure(figsize=(4, 4))\n",
    "    gs = gridspec.GridSpec(4, 4)\n",
    "    gs.update(wspace=0.05, hspace=0.05)\n",
    "\n",
    "    for i, sample in enumerate(samples):\n",
    "        ax = plt.subplot(gs[i])\n",
    "        plt.axis('off')\n",
    "        ax.set_xticklabels([])\n",
    "        ax.set_yticklabels([])\n",
    "        ax.set_aspect('equal')\n",
    "        plt.imshow(sample.reshape(28, 28), cmap='Greys_r')\n",
    "\n",
    "    return fig\n",
    "\n",
    "with tf.Session() as sess:\n",
    "    sess.run(tf.global_variables_initializer())\n",
    "    for it in range(1000000):\n",
    "        if it % 1000 == 0:\n",
    "            samples = sess.run(gan.G_sample, feed_dict={gan.Z: gan.sample_Z(16, Z_dim)})\n",
    "            fig = plot(samples)\n",
    "            plt.show()\n",
    "            plt.close(fig)\n",
    "\n",
    "        X_mb, _ = mnist.train.next_batch(mb_size)\n",
    "\n",
    "        _, D_loss_curr = sess.run([gan.D_solver, gan.D_loss], feed_dict={gan.X: X_mb, gan.Z: gan.sample_Z(mb_size, Z_dim)})\n",
    "        _, G_loss_curr = sess.run([gan.G_solver, gan.G_loss], feed_dict={gan.Z: gan.sample_Z(mb_size, Z_dim)})\n",
    "            \n",
    "        if it % 1000 == 0:\n",
    "            print('Iter: {}'.format(it))\n",
    "            print('D loss: {:.4}'. format(D_loss_curr))\n",
    "            print('G_loss: {:.4}'.format(G_loss_curr))\n",
    "            print()"
   ]
  },
  {
   "cell_type": "code",
   "execution_count": null,
   "metadata": {
    "collapsed": true
   },
   "outputs": [],
   "source": []
  }
 ],
 "metadata": {
  "kernelspec": {
   "display_name": "Python 3",
   "language": "python",
   "name": "python3"
  },
  "language_info": {
   "codemirror_mode": {
    "name": "ipython",
    "version": 3
   },
   "file_extension": ".py",
   "mimetype": "text/x-python",
   "name": "python",
   "nbconvert_exporter": "python",
   "pygments_lexer": "ipython3",
   "version": "3.6.2"
  }
 },
 "nbformat": 4,
 "nbformat_minor": 2
}
